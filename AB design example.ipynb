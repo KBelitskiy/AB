{
 "cells": [
  {
   "cell_type": "markdown",
   "metadata": {},
   "source": [
    "# Пример расчета длительности эксперимента и mde (на основе доступной выборки)"
   ]
  },
  {
   "cell_type": "code",
   "execution_count": 14,
   "metadata": {},
   "outputs": [],
   "source": [
    "import io\n",
    "import sqlalchemy\n",
    "from sqlalchemy import create_engine\n",
    "from clickhouse_driver.client import Client\n",
    "import pandas as pd\n",
    "import numpy as np\n",
    "from itertools import combinations, product\n",
    "import scipy.stats as st\n",
    "import math \n",
    "from o3_exp import o3_exp\n",
    "from datetime import datetime, date, time\n",
    "import matplotlib.pyplot as plt\n",
    "import plotly.express as px\n",
    "import json"
   ]
  },
  {
   "cell_type": "code",
   "execution_count": null,
   "metadata": {},
   "outputs": [],
   "source": [
    "# подключение к clickhouse\n",
    "client_click = get_creds(ch)"
   ]
  },
  {
   "cell_type": "code",
   "execution_count": 1,
   "metadata": {},
   "outputs": [],
   "source": [
    "# чтение данных из clickhouse\n",
    "def get_data(client, query, date_start, date_end, user_col, smpl, columns):\n",
    "    date_range  = pd.date_range(start=date_start,end=date_end)\n",
    "    df_arr = []\n",
    "    for date in date_range:\n",
    "        for part in range(0,smpl):\n",
    "            date_str = date.strftime('%Y-%m-%d')\n",
    "            temp = client.execute(query.format(date=date_str, user_col=user_col, sample_value=1/smpl, offset_value=(1/smpl*part)))\n",
    "            df_temp = pd.DataFrame.from_records(temp, columns = columns)\n",
    "            print(date_str, df_temp.shape,1/smpl,part,(1/smpl*part))\n",
    "            df_arr.append(df_temp)\n",
    "    df = pd.concat(df_arr)\n",
    "    return df"
   ]
  },
  {
   "cell_type": "code",
   "execution_count": 13,
   "metadata": {},
   "outputs": [
    {
     "data": {
      "text/plain": [
       "28"
      ]
     },
     "execution_count": 13,
     "metadata": {},
     "output_type": "execute_result"
    }
   ],
   "source": [
    "DATE_START = '2021-01-01'\n",
    "DATE_END = '2021-01-28'\n",
    "dates = (datetime.strptime(DATE_END, '%Y-%m-%d') - datetime.strptime(DATE_START, '%Y-%m-%d')).days + 1\n",
    "dates"
   ]
  },
  {
   "cell_type": "code",
   "execution_count": 7,
   "metadata": {},
   "outputs": [],
   "source": [
    "query = '''\n",
    "with raw as (\n",
    "    select \n",
    "        date \n",
    "        , {user_col}\n",
    "        , sku\n",
    "        , timestamp\n",
    "        , action\n",
    "        , items.sku skus \n",
    "        , total_quantity - quantity as result_quantity \n",
    "    from tracker.events\n",
    "    where 1=1 \n",
    "        and date = '{date}' \n",
    "        and namespace = 'bx'\n",
    "        and user_id != ''\n",
    "        and action in ('cart_view','decrement', 'increment', 'to_checkout', 'to_cart')\n",
    "        and page = 'cart'\n",
    "),\n",
    "events as (\n",
    "    select\n",
    "        date\n",
    "        , {user_col}\n",
    "        , flow\n",
    "        , sku\n",
    "        , sum(sku_result_quantity) as quantity_diff\n",
    "    from(\n",
    "        select\n",
    "            date\n",
    "            , {user_col}\n",
    "            , arrayJoin(arrayReverseSplit(x->x.3 = 'to_checkout', arraySort(groupArray((timestamp, --1\n",
    "                                                                            sku, --2\n",
    "                                                                            action, --3\n",
    "                                                                            skus, --4\n",
    "                                                                            result_quantity --5\n",
    "                                                                            ))))) as flow\n",
    "            , arrayFilter(x -> (x.3 in ('to_checkout')),flow)  as to_checkout_action\n",
    "            , arrayFlatten(tupleElement(to_checkout_action, 4)) to_checkout_skus\n",
    "            , length(to_checkout_action) as has_to_checkout\n",
    "            , arrayJoin(arrayFlatten(arrayFilter(x -> (x.3 in ('decrement','increment','to_cart')),flow))) as change_quantity\n",
    "            , tupleElement(change_quantity,3) as current_action_type\n",
    "            , if(current_action_type = 'to_cart', tupleElement(change_quantity,2)*-1, tupleElement(change_quantity,2)) as sku\n",
    "            , if(current_action_type = 'to_cart', 1 ,tupleElement(change_quantity,5)) as sku_result_quantity\n",
    "            , has(to_checkout_skus,tupleElement(change_quantity,2)) sku_valid\n",
    "        from raw\n",
    "        group by date\n",
    "            , {user_col} \n",
    "    )\n",
    "    where 1=1\n",
    "        and has_to_checkout >=1\n",
    "        and sku_valid = 1\n",
    "    group by date\n",
    "        , {user_col}\n",
    "        , flow\n",
    "        , sku\n",
    "),\n",
    "users_on_cart as (\n",
    "    select\n",
    "        date\n",
    "       , {user_col}\n",
    "       , 1 as cart_view\n",
    "   from raw\n",
    "   where 1=1 \n",
    "       and action = 'cart_view'\n",
    ")\n",
    "SELECT \n",
    "    date\n",
    "    , {user_col}\n",
    "    , max(cart_view) as cart_view\n",
    "    , countIf(quantity_diff > 0) as upsale_events_cnt\n",
    "    , countIf(quantity_diff < 0) as downsale_events_cnt\n",
    "FROM users_on_cart uoc\n",
    "    left join events e using(date, {user_col})\n",
    "GROUP BY  date\n",
    "    , {user_col}\n",
    "'''"
   ]
  },
  {
   "cell_type": "code",
   "execution_count": null,
   "metadata": {},
   "outputs": [],
   "source": [
    "df = get_data(client_click, query, DATE_START, DATE_END, 'user_session_id', 10, ['date',\n",
    "                                                                              'user_client_id',\n",
    "                                                                              'cart_view',\n",
    "                                                                              'upsale_events_cnt',\n",
    "                                                                              'downsale_events_cnt'])\n",
    "df['date'] = pd.to_datetime(df['date'])\n",
    "df['date_delta'] = (df['date'] - datetime.strptime(DATE_START, '%Y-%m-%d')).dt.days + 1"
   ]
  },
  {
   "cell_type": "code",
   "execution_count": 27,
   "metadata": {},
   "outputs": [],
   "source": [
    "def calc_valuable_effect(data, col_num, metric_name):\n",
    "    result_list = []\n",
    "    data['date'] = pd.to_datetime(data['date'])\n",
    "    data['date_delta'] = (data['date'] - datetime.strptime(DATE_START, '%Y-%m-%d')).dt.days + 1\n",
    "    for n_days in range(7, dates+1, 7):\n",
    "        user_data = data[(data['date_delta']<=n_days)].groupby('user_client_id')[col_num].sum().reset_index()\n",
    "        mu = user_data[col_num].mean()\n",
    "        std = user_data[col_num].std()\n",
    "        sample_size = user_data.shape[0]\n",
    "        mde = o3_exp.get_minimal_determinable_effect(mu, std, sample_size, n_groups=2, n_metrics=2, target_share=0.5, r=1, \n",
    "                                        compare='only_control', alpha_correction = True, alpha=0.05, beta=0.2)\n",
    "        result_list.append([metric_name, n_days, mde])\n",
    "    pd.options.display.float_format='{:.3f}'.format \n",
    "    result_df = pd.DataFrame(data = result_list, columns = ['metric_name', 'test_days', 'mde'])\n",
    "    return(result_df)"
   ]
  },
  {
   "cell_type": "code",
   "execution_count": 10,
   "metadata": {},
   "outputs": [
    {
     "data": {
      "text/html": [
       "<div>\n",
       "<style scoped>\n",
       "    .dataframe tbody tr th:only-of-type {\n",
       "        vertical-align: middle;\n",
       "    }\n",
       "\n",
       "    .dataframe tbody tr th {\n",
       "        vertical-align: top;\n",
       "    }\n",
       "\n",
       "    .dataframe thead th {\n",
       "        text-align: right;\n",
       "    }\n",
       "</style>\n",
       "<table border=\"1\" class=\"dataframe\">\n",
       "  <thead>\n",
       "    <tr style=\"text-align: right;\">\n",
       "      <th></th>\n",
       "      <th>metric_name</th>\n",
       "      <th>test_days</th>\n",
       "      <th>mde</th>\n",
       "    </tr>\n",
       "  </thead>\n",
       "  <tbody>\n",
       "    <tr>\n",
       "      <th>0</th>\n",
       "      <td>upsale</td>\n",
       "      <td>7</td>\n",
       "      <td>0.904</td>\n",
       "    </tr>\n",
       "    <tr>\n",
       "      <th>1</th>\n",
       "      <td>upsale</td>\n",
       "      <td>14</td>\n",
       "      <td>0.602</td>\n",
       "    </tr>\n",
       "    <tr>\n",
       "      <th>2</th>\n",
       "      <td>upsale</td>\n",
       "      <td>21</td>\n",
       "      <td>0.576</td>\n",
       "    </tr>\n",
       "    <tr>\n",
       "      <th>3</th>\n",
       "      <td>upsale</td>\n",
       "      <td>28</td>\n",
       "      <td>0.504</td>\n",
       "    </tr>\n",
       "  </tbody>\n",
       "</table>\n",
       "</div>"
      ],
      "text/plain": [
       "  metric_name  test_days   mde\n",
       "0  upsale      7         0.904\n",
       "1  upsale      14        0.602\n",
       "2  upsale      21        0.576\n",
       "3  upsale      28        0.504"
      ]
     },
     "execution_count": 10,
     "metadata": {},
     "output_type": "execute_result"
    }
   ],
   "source": [
    "calc_valuable_effect(data = df, col_num='upsale_events_cnt',metric_name = 'upsale' )"
   ]
  },
  {
   "cell_type": "code",
   "execution_count": 12,
   "metadata": {},
   "outputs": [
    {
     "data": {
      "text/html": [
       "<div>\n",
       "<style scoped>\n",
       "    .dataframe tbody tr th:only-of-type {\n",
       "        vertical-align: middle;\n",
       "    }\n",
       "\n",
       "    .dataframe tbody tr th {\n",
       "        vertical-align: top;\n",
       "    }\n",
       "\n",
       "    .dataframe thead th {\n",
       "        text-align: right;\n",
       "    }\n",
       "</style>\n",
       "<table border=\"1\" class=\"dataframe\">\n",
       "  <thead>\n",
       "    <tr style=\"text-align: right;\">\n",
       "      <th></th>\n",
       "      <th>metric_name</th>\n",
       "      <th>test_days</th>\n",
       "      <th>mde</th>\n",
       "    </tr>\n",
       "  </thead>\n",
       "  <tbody>\n",
       "    <tr>\n",
       "      <th>0</th>\n",
       "      <td>downsale</td>\n",
       "      <td>7</td>\n",
       "      <td>5.423</td>\n",
       "    </tr>\n",
       "    <tr>\n",
       "      <th>1</th>\n",
       "      <td>downsale</td>\n",
       "      <td>14</td>\n",
       "      <td>3.092</td>\n",
       "    </tr>\n",
       "    <tr>\n",
       "      <th>2</th>\n",
       "      <td>downsale</td>\n",
       "      <td>21</td>\n",
       "      <td>2.979</td>\n",
       "    </tr>\n",
       "    <tr>\n",
       "      <th>3</th>\n",
       "      <td>downsale</td>\n",
       "      <td>28</td>\n",
       "      <td>2.740</td>\n",
       "    </tr>\n",
       "  </tbody>\n",
       "</table>\n",
       "</div>"
      ],
      "text/plain": [
       "  metric_name  test_days   mde\n",
       "0  downsale    7         5.423\n",
       "1  downsale    14        3.092\n",
       "2  downsale    21        2.979\n",
       "3  downsale    28        2.740"
      ]
     },
     "execution_count": 12,
     "metadata": {},
     "output_type": "execute_result"
    }
   ],
   "source": [
    "calc_valuable_effect(data = df, col_num='downsale_events_cnt',metric_name = 'downsale' )"
   ]
  },
  {
   "cell_type": "code",
   "execution_count": null,
   "metadata": {},
   "outputs": [],
   "source": []
  }
 ],
 "metadata": {
  "kernelspec": {
   "display_name": "Python 3",
   "language": "python",
   "name": "python3"
  },
  "language_info": {
   "codemirror_mode": {
    "name": "ipython",
    "version": 3
   },
   "file_extension": ".py",
   "mimetype": "text/x-python",
   "name": "python",
   "nbconvert_exporter": "python",
   "pygments_lexer": "ipython3",
   "version": "3.7.3"
  },
  "toc": {
   "base_numbering": 1,
   "nav_menu": {},
   "number_sections": false,
   "sideBar": false,
   "skip_h1_title": false,
   "title_cell": "Table of Contents",
   "title_sidebar": "Contents",
   "toc_cell": false,
   "toc_position": {},
   "toc_section_display": false,
   "toc_window_display": false
  }
 },
 "nbformat": 4,
 "nbformat_minor": 4
}
